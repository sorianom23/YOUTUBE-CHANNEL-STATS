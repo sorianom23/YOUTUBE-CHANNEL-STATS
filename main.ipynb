{
 "cells": [
  {
   "cell_type": "code",
   "execution_count": 1,
   "metadata": {},
   "outputs": [],
   "source": [
    "import pandas as pd\n",
    "import numpy as np\n",
    "\n",
    "import requests\n",
    "import json\n",
    "\n",
    "from config import *"
   ]
  },
  {
   "cell_type": "code",
   "execution_count": 18,
   "metadata": {},
   "outputs": [],
   "source": [
    "def get_channel_stats():\n",
    "    url = f'https://www.googleapis.com/youtube/v3/channels?part=statistics&id={CHANNEL_ID}&key={API_KEY}'\n",
    "\n",
    "    request = requests.get(url)\n",
    "    json_stats = json.loads(request.text)\n",
    "\n",
    "    # print(json_stats)\n",
    "\n",
    "    stats = json_stats['items'][0]['statistics']\n",
    "    \n",
    "    print(stats)\n"
   ]
  },
  {
   "cell_type": "code",
   "execution_count": 19,
   "metadata": {},
   "outputs": [
    {
     "name": "stdout",
     "output_type": "stream",
     "text": [
      "{'viewCount': '5039457', 'subscriberCount': '50600', 'hiddenSubscriberCount': False, 'videoCount': '191'}\n"
     ]
    }
   ],
   "source": [
    "get_channel_stats()"
   ]
  },
  {
   "cell_type": "code",
   "execution_count": null,
   "metadata": {},
   "outputs": [],
   "source": []
  }
 ],
 "metadata": {
  "kernelspec": {
   "display_name": "Python 3.8.5 ('yt_stats_env': venv)",
   "language": "python",
   "name": "python3"
  },
  "language_info": {
   "codemirror_mode": {
    "name": "ipython",
    "version": 3
   },
   "file_extension": ".py",
   "mimetype": "text/x-python",
   "name": "python",
   "nbconvert_exporter": "python",
   "pygments_lexer": "ipython3",
   "version": "3.8.5"
  },
  "orig_nbformat": 4,
  "vscode": {
   "interpreter": {
    "hash": "79adf50a2087df1f178fb743e2e53f2c60fbf1ac5d87f352c91248778b666d60"
   }
  }
 },
 "nbformat": 4,
 "nbformat_minor": 2
}
